{
 "cells": [
  {
   "cell_type": "markdown",
   "metadata": {},
   "source": [
    "# Object-Oriented-Programming (OOP)"
   ]
  },
  {
   "cell_type": "markdown",
   "metadata": {},
   "source": [
    "## Tasks Today:\n",
    "\n",
    "   \n",
    "\n",
    "1) <b>Creating a Class (Initializing/Declaring)</b> <br>\n",
    "2) <b>Using a Class (Instantiating)</b> <br>\n",
    " &nbsp;&nbsp;&nbsp;&nbsp; a) Creating One Instance <br>\n",
    " &nbsp;&nbsp;&nbsp;&nbsp; b) Creating Multiple Instances <br>\n",
    " &nbsp;&nbsp;&nbsp;&nbsp; c) In-Class Exercise #1 - Create a Class 'Car' and instantiate three different makes of cars <br>\n",
    "3) <b>The \\__init\\__() Method</b> <br>\n",
    " &nbsp;&nbsp;&nbsp;&nbsp; a) The 'self' Attribute <br>\n",
    "4) <b>Class Attributes</b> <br>\n",
    " &nbsp;&nbsp;&nbsp;&nbsp; a) Initializing Attributes <br>\n",
    " &nbsp;&nbsp;&nbsp;&nbsp; b) Setting an Attribute Outside of the \\__init\\__() Method <br>\n",
    " &nbsp;&nbsp;&nbsp;&nbsp; c) Setting Defaults for Attributes <br>\n",
    " &nbsp;&nbsp;&nbsp;&nbsp; d) Accessing Class Attributes <br>\n",
    " &nbsp;&nbsp;&nbsp;&nbsp; e) Changing Class Attributes <br>\n",
    " &nbsp;&nbsp;&nbsp;&nbsp; f) In-Class Exercise #2 - Add a color and wheels attribute to your 'Car' class <br>\n",
    "5) <b>Class Methods</b> <br>\n",
    " &nbsp;&nbsp;&nbsp;&nbsp; a) Creating <br>\n",
    " &nbsp;&nbsp;&nbsp;&nbsp; b) Calling <br>\n",
    " &nbsp;&nbsp;&nbsp;&nbsp; c) Modifying an Attribute's Value Through a Method <br>\n",
    " &nbsp;&nbsp;&nbsp;&nbsp; d) Incrementing an Attribute's Value Through a Method <br>\n",
    " &nbsp;&nbsp;&nbsp;&nbsp; e) In-Class Exercise #3 - Add a method that prints the cars color and wheel number, then call them <br>\n",
    "6) <b>Inheritance</b> <br>\n",
    " &nbsp;&nbsp;&nbsp;&nbsp; a) Syntax for Inheriting from a Parent Class <br>\n",
    " &nbsp;&nbsp;&nbsp;&nbsp; b) The \\__init\\__() Method for a Child Class (super()) <br>\n",
    " &nbsp;&nbsp;&nbsp;&nbsp; c) Defining Attributes and Methods for the Child Class <br>\n",
    " &nbsp;&nbsp;&nbsp;&nbsp; d) Method Overriding <br>\n",
    " &nbsp;&nbsp;&nbsp;&nbsp; e) In-Class Exercise #4 - Create a class 'Ford' that inherits from 'Car' class and initialize it as a Blue Ford Explorer with 4 wheels using the super() method <br>\n",
    "7) <b>Classes as Attributes</b> <br>\n",
    "8) <b>Exercises</b> <br>\n",
    " &nbsp;&nbsp;&nbsp;&nbsp; a) Exercise #1 - Turn the shopping cart program from yesterday into an object-oriented program <br>"
   ]
  },
  {
   "cell_type": "code",
   "execution_count": 2,
   "metadata": {},
   "outputs": [
    {
     "name": "stdout",
     "output_type": "stream",
     "text": [
      "your cart contains:\n",
      "lettuce\n",
      "Thanks for shopping\n"
     ]
    }
   ],
   "source": [
    "from IPython.display import clear_output\n",
    "\n",
    "# Create a global list\n",
    "cart = []\n",
    "\n",
    "def show_cart():\n",
    "    clear_output()\n",
    "    print(\"your cart contains:\")\n",
    "    for item in cart:\n",
    "        print(item)\n",
    "\n",
    "def add_item(item):\n",
    "    clear_output()\n",
    "    cart.append(item)\n",
    "    print(f\"{item} was added to your cart\")\n",
    "    \n",
    "def remove_item(item):\n",
    "    clear_output()\n",
    "    cart.remove(item)\n",
    "    print(f\"{item} was removed to your cart\")\n",
    "    \n",
    "def clear_cart():\n",
    "    clear_output()\n",
    "    cart.clear()\n",
    "    print(\"your cart is empty\")\n",
    "\n",
    "def shopping_cart():\n",
    "    while True:\n",
    "        response = input(\"What would you like to do? you can: quit/ add/ remove/ show or clear.  Only type one response \\n\")\n",
    "        if response.lower() == \"quit\":\n",
    "            show_cart()\n",
    "            print(\"Thanks for shopping\")\n",
    "            break\n",
    "        elif response.lower()== 'add':\n",
    "            item = input(\"What would you like to add? \")\n",
    "            add_item(item)\n",
    "        elif response.lower() == 'remove':\n",
    "            show_cart()\n",
    "            item = input(\"What item would you like to remove?\")\n",
    "            remove_item(item)\n",
    "        elif response.lower() == 'show':\n",
    "            show_cart()\n",
    "        elif response.lower() == 'clear':\n",
    "            clear_cart()\n",
    "        else:\n",
    "            print(\"Say that not a valid option you moron read the directions!\")\n",
    "\n",
    "shopping_cart() "
   ]
  },
  {
   "cell_type": "markdown",
   "metadata": {},
   "source": [
    "## Creating a Class (Initializing/Declaring)\n",
    "<p>When creating a class, function, or even a variable you are initializing that object. Initializing and Declaring occur at the same time in Python, whereas in lower level languages you have to declare an object before initializing it. This is the first step in the process of using a class.</p>"
   ]
  },
  {
   "cell_type": "code",
   "execution_count": 4,
   "metadata": {},
   "outputs": [],
   "source": [
    "class Car(): #PascalCase for class names, not snake_case my_new_class <--no do this--> MyNewClass\n",
    "    wheels = 4\n",
    "    color = \"blue\""
   ]
  },
  {
   "cell_type": "markdown",
   "metadata": {},
   "source": [
    "## Using a Class (Instantiating)\n",
    "<p>The process of creating a class is called <i>Instantiating</i>. Each time you create a variable of that type of class, it is referred to as an <i>Instance</i> of that class. This is the second step in the process of using a class.</p>"
   ]
  },
  {
   "cell_type": "markdown",
   "metadata": {},
   "source": [
    "##### Creating One Instance"
   ]
  },
  {
   "cell_type": "code",
   "execution_count": 5,
   "metadata": {},
   "outputs": [],
   "source": [
    "ford = Car()"
   ]
  },
  {
   "cell_type": "markdown",
   "metadata": {},
   "source": [
    "##### Creating Multiple Instances"
   ]
  },
  {
   "cell_type": "code",
   "execution_count": 8,
   "metadata": {},
   "outputs": [
    {
     "name": "stdout",
     "output_type": "stream",
     "text": [
      "blue\n",
      "blue\n",
      "4\n",
      "4\n"
     ]
    }
   ],
   "source": [
    "chevy = Car()\n",
    "honda = Car()\n",
    "porsche = Car()\n",
    "\n",
    "print(chevy.color)\n",
    "print(honda.color)\n",
    "print(honda.wheels)\n",
    "print(porsche.wheels)"
   ]
  },
  {
   "cell_type": "markdown",
   "metadata": {},
   "source": [
    "##### In-Class Exercise #1 - Create a Class 'Car' and Instantiate three different makes of cars"
   ]
  },
  {
   "cell_type": "code",
   "execution_count": 10,
   "metadata": {},
   "outputs": [
    {
     "data": {
      "text/plain": [
       "True"
      ]
     },
     "execution_count": 10,
     "metadata": {},
     "output_type": "execute_result"
    }
   ],
   "source": []
  },
  {
   "cell_type": "markdown",
   "metadata": {},
   "source": [
    "## The \\__init\\__() Method <br>\n",
    "<p>This method is used in almost every created class, and called only once upon the creation of the class instance. This method will initialize all variables needed for the object.</p>"
   ]
  },
  {
   "cell_type": "code",
   "execution_count": 17,
   "metadata": {},
   "outputs": [
    {
     "name": "stdout",
     "output_type": "stream",
     "text": [
      "4\n",
      "4.7L\n",
      "6\n",
      "4.7L\n"
     ]
    }
   ],
   "source": [
    "class Car():\n",
    "    engine = \"4.7L\"\n",
    "    \n",
    "    # Constructor __init__\n",
    "    def __init__(self, wheels):\n",
    "        self.wheels = wheels\n",
    "\n",
    "ford = Car(4)\n",
    "print(ford.wheels)\n",
    "print(ford.engine)\n",
    "chevy = Car(6)\n",
    "print(chevy.wheels)\n",
    "print(chevy.engine)"
   ]
  },
  {
   "cell_type": "markdown",
   "metadata": {},
   "source": [
    "##### The 'self' Attribute <br>\n",
    "<p>This attribute is required to keep track of specific instance's attributes. Without the self attribute, the program would not know how to reference or keep track of an instance's attributes.</p>"
   ]
  },
  {
   "cell_type": "code",
   "execution_count": null,
   "metadata": {},
   "outputs": [],
   "source": [
    "# see above"
   ]
  },
  {
   "cell_type": "markdown",
   "metadata": {},
   "source": [
    "## Class Attributes <br>\n",
    "<p>While variables are inside of a class, they are referred to as attributes and not variables. When someone says 'attribute' you know they're speaking about a class. Attributes can be initialized through the init method, or outside of it.</p>"
   ]
  },
  {
   "cell_type": "markdown",
   "metadata": {},
   "source": [
    "##### Initializing Attributes"
   ]
  },
  {
   "cell_type": "code",
   "execution_count": null,
   "metadata": {},
   "outputs": [],
   "source": [
    "# see above"
   ]
  },
  {
   "cell_type": "markdown",
   "metadata": {},
   "source": [
    "##### Accessing Class Attributes"
   ]
  },
  {
   "cell_type": "code",
   "execution_count": null,
   "metadata": {
    "scrolled": true
   },
   "outputs": [],
   "source": [
    "# See Above"
   ]
  },
  {
   "cell_type": "markdown",
   "metadata": {},
   "source": [
    "##### Setting Defaults for Attributes"
   ]
  },
  {
   "cell_type": "code",
   "execution_count": 20,
   "metadata": {},
   "outputs": [
    {
     "name": "stdout",
     "output_type": "stream",
     "text": [
      "Honda has 4 wheels and is the color Blue\n",
      "Jeep hass 8 wheels and is the color Green\n"
     ]
    }
   ],
   "source": [
    "class Car():\n",
    "    engine = \"4.7L\"\n",
    "    \n",
    "    def __init__(self,wheels, color=\"Blue\"):\n",
    "        self.wheels = wheels\n",
    "        self.color = color\n",
    "    \n",
    "honda = Car(4)\n",
    "jeep = Car(8,\"Green\")\n",
    "\n",
    "print(f\"Honda has {honda.wheels} wheels and is the color {honda.color}\")\n",
    "print(f\"Jeep hass {jeep.wheels} wheels and is the color {jeep.color}\")"
   ]
  },
  {
   "cell_type": "markdown",
   "metadata": {},
   "source": [
    "##### Changing Class Attributes <br>\n",
    "<p>Keep in mind there are global class attributes and then there are attributes only available to each class instance which won't effect other classes.</p>"
   ]
  },
  {
   "cell_type": "code",
   "execution_count": 22,
   "metadata": {},
   "outputs": [
    {
     "ename": "AttributeError",
     "evalue": "type object 'Car' has no attribute 'wheels'",
     "output_type": "error",
     "traceback": [
      "\u001b[0;31m---------------------------------------------------------------------------\u001b[0m",
      "\u001b[0;31mAttributeError\u001b[0m                            Traceback (most recent call last)",
      "\u001b[0;32m<ipython-input-22-ba685d2ceec0>\u001b[0m in \u001b[0;36m<module>\u001b[0;34m\u001b[0m\n\u001b[1;32m      1\u001b[0m \u001b[0mCar\u001b[0m\u001b[0;34m.\u001b[0m\u001b[0mengine\u001b[0m\u001b[0;34m\u001b[0m\u001b[0;34m\u001b[0m\u001b[0m\n\u001b[0;32m----> 2\u001b[0;31m \u001b[0mCar\u001b[0m\u001b[0;34m.\u001b[0m\u001b[0mwheels\u001b[0m\u001b[0;34m\u001b[0m\u001b[0;34m\u001b[0m\u001b[0m\n\u001b[0m",
      "\u001b[0;31mAttributeError\u001b[0m: type object 'Car' has no attribute 'wheels'"
     ]
    }
   ],
   "source": [
    "Car.engine #works because it is a class attr\n",
    "Car.wheels #doesn't work because it is an instance varible"
   ]
  },
  {
   "cell_type": "code",
   "execution_count": 29,
   "metadata": {},
   "outputs": [
    {
     "data": {
      "text/plain": [
       "'4.7L'"
      ]
     },
     "execution_count": 29,
     "metadata": {},
     "output_type": "execute_result"
    }
   ],
   "source": [
    "honda.color =\"White\"\n",
    "honda.color\n",
    "\n",
    "honda.engine = \"2.7L\"\n",
    "honda.engine\n",
    "\n",
    "jeep.engine"
   ]
  },
  {
   "cell_type": "markdown",
   "metadata": {},
   "source": [
    "##### In-Class Exercise #2 - Add a doors and seats attribute to your 'Car' class then print out two different instances with different doors and seats"
   ]
  },
  {
   "cell_type": "code",
   "execution_count": null,
   "metadata": {},
   "outputs": [],
   "source": []
  },
  {
   "cell_type": "markdown",
   "metadata": {},
   "source": [
    "## Class Methods <br>\n",
    "<p>While inside of a class, functions are referred to as 'methods'. If you hear someone mention methods, they're speaking about classes. Methods are essentially functions, but only callable on the instances of a class.</p>"
   ]
  },
  {
   "cell_type": "markdown",
   "metadata": {},
   "source": [
    "##### Creating"
   ]
  },
  {
   "cell_type": "code",
   "execution_count": 40,
   "metadata": {},
   "outputs": [],
   "source": [
    "class Car():\n",
    "    def __init__(self, wheels, color, seats):\n",
    "        self.wheels = wheels\n",
    "        self.color = color\n",
    "        self.seats = seats\n",
    "        \n",
    "    def drive(self):\n",
    "        print(\"Vrrrrooooooomm!!!!\")\n",
    "    \n",
    "    def set_color(self, new_color):\n",
    "        self.color = new_color\n",
    "        \n",
    "    def describe(self):\n",
    "        print(f\"The car is {self.color} with {self.seats} seats and {self.wheels} wheels\")\n",
    "    \n",
    "    def add_seat(self):\n",
    "        self.seats+=1\n",
    "        "
   ]
  },
  {
   "cell_type": "markdown",
   "metadata": {},
   "source": [
    "##### Calling"
   ]
  },
  {
   "cell_type": "code",
   "execution_count": 41,
   "metadata": {},
   "outputs": [
    {
     "name": "stdout",
     "output_type": "stream",
     "text": [
      "Vrrrrooooooomm!!!!\n",
      "The car is red with 8 seats and 4 wheels\n",
      "The car is green with 8 seats and 4 wheels\n",
      "Vrrrrooooooomm!!!!\n",
      "The car is blue with 2 seats and 2 wheels\n",
      "The car is Aqua with 2 seats and 2 wheels\n"
     ]
    }
   ],
   "source": [
    "chevy = Car(4, \"red\", 8)\n",
    "chevy.drive()\n",
    "chevy.describe()\n",
    "chevy.set_color(\"green\")\n",
    "chevy.describe()\n",
    "\n",
    "\n",
    "honda = Car(2,\"blue\",2)\n",
    "honda.drive()\n",
    "honda.describe()\n",
    "honda.set_color(\"Aqua\")\n",
    "honda.describe()"
   ]
  },
  {
   "cell_type": "code",
   "execution_count": 42,
   "metadata": {},
   "outputs": [
    {
     "name": "stdout",
     "output_type": "stream",
     "text": [
      "Vrrrrooooooomm!!!!\n",
      "The car is Aqua with 2 seats and 2 wheels\n",
      "Vrrrrooooooomm!!!!\n",
      "The car is green with 8 seats and 4 wheels\n"
     ]
    }
   ],
   "source": [
    "car_list=[honda, chevy]\n",
    "\n",
    "for car in car_list:\n",
    "    car.drive()\n",
    "    car.describe()"
   ]
  },
  {
   "cell_type": "markdown",
   "metadata": {},
   "source": [
    "##### Modifying an Attribute's Value Through a Method"
   ]
  },
  {
   "cell_type": "code",
   "execution_count": null,
   "metadata": {},
   "outputs": [],
   "source": [
    "#above"
   ]
  },
  {
   "cell_type": "markdown",
   "metadata": {},
   "source": [
    "##### Incrementing an Attribute's Value Through a Method"
   ]
  },
  {
   "cell_type": "code",
   "execution_count": 44,
   "metadata": {},
   "outputs": [
    {
     "name": "stdout",
     "output_type": "stream",
     "text": [
      "The car is Aqua with 2 seats and 2 wheels\n",
      "The car is Aqua with 3 seats and 2 wheels\n"
     ]
    }
   ],
   "source": [
    "honda.describe()\n",
    "honda.add_seat()\n",
    "honda.describe()"
   ]
  },
  {
   "cell_type": "markdown",
   "metadata": {},
   "source": [
    "##### In-Class Exercise #3 - Add a method that takes in three parameters of year, doors and seats and prints out a formatted print statement with make, model, year, seats, and doors"
   ]
  },
  {
   "cell_type": "code",
   "execution_count": 1,
   "metadata": {},
   "outputs": [],
   "source": [
    "# Create class with 2 paramters inside of the __init__ which are make and model\n",
    "\n",
    "# Inside of the Car class create a method that has 4 parameter in total (self,year,door,seats)\n",
    "\n",
    "# Output: This car is from 2019 and is a Ford Expolorer and has 4 doors and 5 seats\n"
   ]
  },
  {
   "cell_type": "markdown",
   "metadata": {},
   "source": [
    "## Inheritance <br>\n",
    "<p>You can create a child-parent relationship between two classes by using inheritance. What this allows you to do is have overriding methods, but also inherit traits from the parent class. Think of it as an actual parent and child, the child will inherit the parent's genes, as will the classes in OOP</p>"
   ]
  },
  {
   "cell_type": "markdown",
   "metadata": {},
   "source": [
    "##### Syntax for Inheriting from a Parent Class"
   ]
  },
  {
   "cell_type": "code",
   "execution_count": 64,
   "metadata": {
    "scrolled": true
   },
   "outputs": [
    {
     "name": "stdout",
     "output_type": "stream",
     "text": [
      "the Dog has 15 mph in speed and 9.8 in accelration\n",
      "4\n",
      "BARK!!!!!!\n",
      "Dog\n",
      "True\n",
      "True\n"
     ]
    },
    {
     "data": {
      "text/plain": [
       "True"
      ]
     },
     "execution_count": 64,
     "metadata": {},
     "output_type": "execute_result"
    }
   ],
   "source": [
    "#parent\n",
    "class Animal():\n",
    "    acc = 9.8\n",
    "    \n",
    "    def __init__(self, name, species, leg=4):\n",
    "        self.name = name\n",
    "        self.species = species\n",
    "        self.legs = leg\n",
    "    \n",
    "    def speak(self):\n",
    "        print(\"Some Generic Animal Sound\")\n",
    "\n",
    "#child\n",
    "class Dog(Animal):\n",
    "    speed = 15\n",
    "    \n",
    "    def __init__(self, is_house_trained, name, species, leg=4):\n",
    "        super().__init__(name, species, leg)\n",
    "        self.is_house_trained = is_house_trained\n",
    "    \n",
    "    def describe(self):\n",
    "        print(f\"the Dog has {self.speed} mph in speed and {self.acc} in accelration\")\n",
    "        \n",
    "    #Overriding method\n",
    "    def speak(self):\n",
    "        print(\"BARK!!!!!!\")\n",
    "        \n",
    "lassie = Dog(True,\"Lassie\",\"Dog\")\n",
    "lassie.describe()\n",
    "print(lassie.legs)\n",
    "lassie.speak()\n",
    "print(lassie.species)\n",
    "print(isinstance(lassie, Dog))\n",
    "print(isinstance(lassie, Animal))\n",
    "\n",
    "lassie.is_house_trained"
   ]
  },
  {
   "cell_type": "code",
   "execution_count": 66,
   "metadata": {},
   "outputs": [
    {
     "name": "stdout",
     "output_type": "stream",
     "text": [
      "The Mutt is a mix of Black Lab and pointer\n"
     ]
    }
   ],
   "source": [
    "#grandchild\n",
    "class Mutt(Dog):\n",
    "    def __init__(self, second_species, is_house_trained, name, species, leg=4):\n",
    "        super().__init__(is_house_trained, name, species, leg)\n",
    "        self.second_species = second_species\n",
    "    \n",
    "    def describe(self):\n",
    "        print(f\"The Mutt is a mix of {self.species} and {self.second_species}\")\n",
    "        \n",
    "nala = Mutt(\"pointer\",True,\"Nala\",\"Black Lab\")\n",
    "nala.describe()"
   ]
  },
  {
   "cell_type": "markdown",
   "metadata": {},
   "source": [
    "##### The \\__init\\__() Method for a Child Class - super()"
   ]
  },
  {
   "cell_type": "code",
   "execution_count": null,
   "metadata": {
    "scrolled": true
   },
   "outputs": [],
   "source": [
    "# See Above"
   ]
  },
  {
   "cell_type": "markdown",
   "metadata": {},
   "source": [
    "##### Defining Attributes and Methods for the Child Class"
   ]
  },
  {
   "cell_type": "code",
   "execution_count": null,
   "metadata": {},
   "outputs": [],
   "source": [
    "# See Above"
   ]
  },
  {
   "cell_type": "markdown",
   "metadata": {},
   "source": [
    "##### Method Overriding"
   ]
  },
  {
   "cell_type": "code",
   "execution_count": null,
   "metadata": {},
   "outputs": [],
   "source": [
    "# See Above"
   ]
  },
  {
   "cell_type": "markdown",
   "metadata": {},
   "source": [
    "## Classes as Attributes <br>\n",
    "<p>Classes can also be used as attributes within another class. This is useful in situations where you need to keep variables locally stored, instead of globally stored.</p>"
   ]
  },
  {
   "cell_type": "code",
   "execution_count": 69,
   "metadata": {},
   "outputs": [
    {
     "name": "stdout",
     "output_type": "stream",
     "text": [
      "2020 Tesla 7.8 20\n"
     ]
    }
   ],
   "source": [
    "class ElectricCar():\n",
    "    def __init__(self, year, make, battery):\n",
    "        self.year = year\n",
    "        self.make = make\n",
    "        self.battery = battery\n",
    "    \n",
    "    def describe(self):\n",
    "        print(self.year, self.make, self.battery.volts, self.battery.cells)\n",
    "    \n",
    "class Battery():\n",
    "    volts = 7.8\n",
    "    def __init__(self, cells):\n",
    "        self.cells = cells\n",
    "        \n",
    "bat = Battery(20)\n",
    "telsa = ElectricCar(2020,\"Tesla\", bat)\n",
    "\n",
    "telsa.describe()"
   ]
  },
  {
   "cell_type": "markdown",
   "metadata": {},
   "source": [
    "# Exercises"
   ]
  },
  {
   "cell_type": "markdown",
   "metadata": {},
   "source": [
    "### Exercise 1 - Turn the shopping cart program from yesterday into an object-oriented program"
   ]
  },
  {
   "cell_type": "code",
   "execution_count": 2,
   "metadata": {},
   "outputs": [
    {
     "name": "stdout",
     "output_type": "stream",
     "text": [
      "Would you like to Show, Add, Delete, or Quit? quit\n",
      "Your shopping cart is empty.\n"
     ]
    }
   ],
   "source": [
    "'''\n",
    "Ask the user four bits of input: Do you want to : Show/Add/Delete or Quit?\n",
    "Show will print the requested item with its price.\n",
    "Add will accept an item and its price then store it in the list.\n",
    "Delete will remove an item and its price from the list.\n",
    "Quit will print the list and a total then terminate the program.\n",
    "'''\n",
    "\n",
    "class UI():\n",
    "    def __init__(self, cart):\n",
    "        self.cart = cart\n",
    "\n",
    "    def run_program(self):\n",
    "        while True:\n",
    "            action = input(\"Would you like to Show, Add, Delete, or Quit? \")\n",
    "            if action.lower() == \"show\":\n",
    "                self.cart.show_items()\n",
    "            elif action.lower() == \"add\":\n",
    "                self.cart.add_item()\n",
    "            elif action.lower() == \"delete\":\n",
    "                self.cart.delete_item()\n",
    "            elif action.lower() == \"quit\":\n",
    "                self.cart.show_items()\n",
    "                break\n",
    "            else:\n",
    "                print(\"You did not enter a valid command. Please try again.\")\n",
    "\n",
    "class ShoppingCart():\n",
    "    def __init__(self):\n",
    "        self.d = {}\n",
    "\n",
    "    def show_items(self):\n",
    "        if self.d == {}:\n",
    "            print(\"Your shopping cart is empty.\")\n",
    "        else:\n",
    "            total = 0\n",
    "            for i in self.d:\n",
    "                for p in range(len(self.d[i])):\n",
    "                    c = \"{:.2f}\".format(float(self.d[i][p]))\n",
    "                    print(f\"{i.title()} is ${c}\")\n",
    "                    total += float(self.d[i][p])\n",
    "            total = \"{:.2f}\".format(total)\n",
    "            print(f\"Total is ${total}.\")\n",
    "\n",
    "    def add_item(self):\n",
    "        item = input(\"What item would you like to add? \")\n",
    "        price = input(\"How much is this item? \")\n",
    "        try: \n",
    "            price = \"{:.2f}\".format(float(price))\n",
    "            if item in self.d:\n",
    "                self.d[item] += [price]\n",
    "            else:\n",
    "                self.d.update({item.lower():[price]})\n",
    "        except:\n",
    "            print(\"You have not entered a valid price.\")\n",
    "\n",
    "    def delete_item(self):\n",
    "        item = input(\"What would you like to delete? \")\n",
    "        if item.lower() in self.d:\n",
    "            del self.d[item]\n",
    "        else:\n",
    "            print(\"The item you want to delete doesn't exist.\")\n",
    "\n",
    "my_cart = ShoppingCart()\n",
    "ui = UI(my_cart)\n",
    "ui.run_program()"
   ]
  },
  {
   "cell_type": "markdown",
   "metadata": {},
   "source": [
    "### Exercise 2 - Write a Python class which has two methods get_String and print_String. get_String accept a string from the user and print_String print the string in upper case"
   ]
  },
  {
   "cell_type": "code",
   "execution_count": null,
   "metadata": {},
   "outputs": [],
   "source": []
  }
 ],
 "metadata": {
  "kernelspec": {
   "display_name": "Python 3 (ipykernel)",
   "language": "python",
   "name": "python3"
  },
  "language_info": {
   "codemirror_mode": {
    "name": "ipython",
    "version": 3
   },
   "file_extension": ".py",
   "mimetype": "text/x-python",
   "name": "python",
   "nbconvert_exporter": "python",
   "pygments_lexer": "ipython3",
   "version": "3.9.7"
  }
 },
 "nbformat": 4,
 "nbformat_minor": 2
}
